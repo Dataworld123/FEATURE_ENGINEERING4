{
 "cells": [
  {
   "cell_type": "code",
   "execution_count": null,
   "id": "3ca7b4dc-1f1b-4e66-9ecb-247480ca01b9",
   "metadata": {},
   "outputs": [],
   "source": [
    "Q1. Pearson correlation coefficient is a measure of the linear relationship between two variables. Suppose\n",
    "you have collected data on the amount of time students spend studying for an exam and their final exam\n",
    "scores. Calculate the Pearson correlation coefficient between these two variables and interpret the result."
   ]
  },
  {
   "cell_type": "markdown",
   "id": "8e56276c-d8ce-4aa1-b420-99a860b83bf8",
   "metadata": {},
   "source": [
    "ANS -- To calculate the Pearson correlation coefficient between two variables (in this case, the amount of time students spend studying for an exam and their final exam scores), you would follow these steps:\n",
    "\n",
    "1. Calculate the mean (average) of both variables.\n",
    "2. Calculate the difference between each data point and its respective mean for both variables.\n",
    "3. Square each of these differences.\n",
    "4. Calculate the sum of the squared differences for both variables.\n",
    "5. Multiply each difference from step 2 for the two variables together.\n",
    "6. Calculate the sum of the products from step 5.\n",
    "7. Divide the sum of the products from step 6 by the square root of the product of the sum of squared differences for each variable.\n",
    "\n",
    "The formula for the Pearson correlation coefficient (r) is:\n",
    "\n",
    "\\[ r = \\frac{\\sum{(X_i - \\bar{X})(Y_i - \\bar{Y})}}{\\sqrt{\\sum{(X_i - \\bar{X})^2} \\sum{(Y_i - \\bar{Y})^2}}} \\]\n",
    "\n",
    "Where:\n",
    "- \\( X_i \\) and \\( Y_i \\) are the individual data points for the two variables.\n",
    "- \\( \\bar{X} \\) and \\( \\bar{Y} \\) are the means of the two variables.\n",
    "\n",
    "Interpretation of the Pearson correlation coefficient (r):\n",
    "- \\( r \\) ranges from -1 to +1.\n",
    "- \\( r = 1 \\) indicates a perfect positive linear correlation, meaning as one variable increases, the other increases proportionally.\n",
    "- \\( r = -1 \\) indicates a perfect negative linear correlation, meaning as one variable increases, the other decreases proportionally.\n",
    "- \\( r = 0 \\) indicates no linear correlation between the two variables.\n",
    "\n",
    "For the interpretation of values between -1 and +1:\n",
    "- The closer \\( r \\) is to +1, the stronger the positive linear correlation.\n",
    "- The closer \\( r \\) is to -1, the stronger the negative linear correlation.\n",
    "- The closer \\( r \\) is to 0, the weaker the linear correlation.\n",
    "\n",
    "In the context of the student study time and final exam scores, if the calculated \\( r \\) is close to +1, it would suggest that there is a strong positive linear relationship between the amount of time students spend studying and their final exam scores. This would mean that students who study more tend to have higher exam scores. If \\( r \\) is close to -1, it would indicate a strong negative linear relationship, suggesting that as study time increases, exam scores decrease. If \\( r \\) is close to 0, it would suggest little to no linear relationship between study time and exam scores, meaning that changes in study time do not consistently correspond to changes in exam scores."
   ]
  },
  {
   "cell_type": "code",
   "execution_count": null,
   "id": "a4846ace-5be2-4dbf-9d1e-d8928893c59d",
   "metadata": {},
   "outputs": [],
   "source": [
    "Q2. Spearman's rank correlation is a measure of the monotonic relationship between two variables.\n",
    "Suppose you have collected data on the amount of sleep individuals get each night and their overall job\n",
    "satisfaction level on a scale of 1 to 10. Calculate the Spearman's rank correlation between these two\n",
    "variables and interpret the result."
   ]
  },
  {
   "cell_type": "markdown",
   "id": "1fa18e25-7a3b-43ec-9290-271e3bcdc1ed",
   "metadata": {},
   "source": [
    "ANS -- Spearman's rank correlation coefficient assesses the monotonic relationship between two variables, which means it measures how consistently the relative order of values of one variable corresponds to the relative order of values of another variable, without necessarily assuming a linear relationship. To calculate Spearman's rank correlation, follow these steps:\n",
    "\n",
    "1. Rank the values for each variable separately, from lowest to highest.\n",
    "2. Assign a rank to each value (average ranks if ties occur).\n",
    "3. Calculate the difference between the ranks of corresponding values for both variables.\n",
    "4. Square each of these rank differences.\n",
    "5. Calculate the sum of the squared rank differences for both variables.\n",
    "6. Use the formula to calculate the Spearman's rank correlation coefficient:\n",
    "\n",
    "\\[ r_s = 1 - \\frac{6 \\sum{d_i^2}}{n(n^2 - 1)} \\]\n",
    "\n",
    "Where:\n",
    "- \\( d_i \\) represents the rank differences.\n",
    "- \\( n \\) is the number of data points.\n",
    "\n",
    "Interpretation of Spearman's rank correlation coefficient (\\( r_s \\)):\n",
    "- \\( r_s \\) ranges from -1 to +1.\n",
    "- \\( r_s = 1 \\) indicates a perfect monotonic positive relationship, meaning as one variable increases, the other also increases consistently in terms of their ranks.\n",
    "- \\( r_s = -1 \\) indicates a perfect monotonic negative relationship, meaning as one variable increases, the other decreases consistently in terms of their ranks.\n",
    "- \\( r_s = 0 \\) indicates no monotonic relationship between the two variables.\n",
    "\n",
    "For the interpretation of values between -1 and +1:\n",
    "- The closer \\( r_s \\) is to +1, the stronger the positive monotonic relationship.\n",
    "- The closer \\( r_s \\) is to -1, the stronger the negative monotonic relationship.\n",
    "- The closer \\( r_s \\) is to 0, the weaker the monotonic relationship.\n",
    "\n",
    "In the context of the amount of sleep individuals get each night and their overall job satisfaction level, if the calculated \\( r_s \\) is close to +1, it suggests a strong positive monotonic relationship. This would mean that individuals who report higher levels of sleep tend to have higher job satisfaction levels. If \\( r_s \\) is close to -1, it indicates a strong negative monotonic relationship, implying that as sleep duration increases, job satisfaction levels decrease. If \\( r_s \\) is close to 0, it suggests little to no monotonic relationship between sleep duration and job satisfaction, implying that changes in sleep duration do not consistently correspond to changes in job satisfaction levels."
   ]
  },
  {
   "cell_type": "code",
   "execution_count": null,
   "id": "2fdd06b1-2a83-4c45-8564-8179b2694a7c",
   "metadata": {},
   "outputs": [],
   "source": [
    "Q3. Suppose you are conducting a study to examine the relationship between the number of hours of\n",
    "exercise per week and body mass index (BMI) in a sample of adults. You collected data on both variables\n",
    "for 50 participants. Calculate the Pearson correlation coefficient and the Spearman's rank correlation\n",
    "between these two variables and compare the results."
   ]
  },
  {
   "cell_type": "markdown",
   "id": "36bf3e7e-a4ae-490e-aca0-75b11f8e0dac",
   "metadata": {},
   "source": [
    "ANS -- To calculate both the Pearson correlation coefficient and Spearman's rank correlation coefficient between the number of hours of exercise per week and body mass index (BMI) for the sample of 50 participants, follow these steps:\n",
    "\n",
    "1. Calculate the Pearson correlation coefficient (r):\n",
    "\n",
    "   Pearson correlation coefficient formula:\n",
    "   \\[ r = \\frac{\\sum{(X_i - \\bar{X})(Y_i - \\bar{Y})}}{\\sqrt{\\sum{(X_i - \\bar{X})^2} \\sum{(Y_i - \\bar{Y})^2}}} \\]\n",
    "\n",
    "   where \\( X_i \\) represents hours of exercise and \\( Y_i \\) represents BMI.\n",
    "\n",
    "2. Calculate the Spearman's rank correlation coefficient (\\( r_s \\)):\n",
    "\n",
    "   Spearman's rank correlation coefficient formula:\n",
    "   \\[ r_s = 1 - \\frac{6 \\sum{d_i^2}}{n(n^2 - 1)} \\]\n",
    "\n",
    "   where \\( d_i \\) represents the rank differences and \\( n \\) is the number of participants.\n",
    "\n",
    "3. Interpret the results based on the calculated correlation coefficients.\n",
    "\n",
    "Keep in mind that calculating these coefficients requires the data values for both variables. Let's assume you have the data values for hours of exercise and BMI for the 50 participants, and you've calculated the necessary values.\n",
    "\n",
    "Now, let's say you've calculated the Pearson correlation coefficient \\( r \\) and Spearman's rank correlation coefficient \\( r_s \\), and you obtained the following results:\n",
    "\n",
    "- Pearson correlation coefficient (\\( r \\)): 0.65\n",
    "- Spearman's rank correlation coefficient (\\( r_s \\)): 0.72\n",
    "\n",
    "Interpretation and comparison of results:\n",
    "\n",
    "Both coefficients indicate a positive correlation between the number of hours of exercise per week and BMI, suggesting that as the amount of exercise increases, BMI tends to decrease. However, the strength of the correlation is different between the two coefficients.\n",
    "\n",
    "- Pearson correlation (\\( r \\)): The value of 0.65 suggests a moderate positive linear relationship between the two variables. This means that there is a tendency for participants who exercise more to have lower BMIs, but the relationship might not be strictly linear.\n",
    "  \n",
    "- Spearman's rank correlation (\\( r_s \\)): The value of 0.72 indicates a stronger monotonic relationship between the two variables. This suggests that the relative order of participants based on their exercise hours corresponds closely to the relative order of participants based on their BMI.\n",
    "\n",
    "In this comparison, Spearman's rank correlation tends to be slightly higher than Pearson's correlation, likely due to the fact that Spearman's rank correlation is less sensitive to outliers and doesn't assume a linear relationship. Both coefficients are useful in different contexts, and the choice between them would depend on the nature of the data and the research question."
   ]
  },
  {
   "cell_type": "code",
   "execution_count": null,
   "id": "83834ac8-fa7a-4a34-a896-a5c2cd051107",
   "metadata": {},
   "outputs": [],
   "source": [
    "Q4. A researcher is interested in examining the relationship between the number of hours individuals\n",
    "spend watching television per day and their level of physical activity. The researcher collected data on\n",
    "both variables from a sample of 50 participants. Calculate the Pearson correlation coefficient between\n",
    "these two variables."
   ]
  },
  {
   "cell_type": "markdown",
   "id": "b0ad9b03-e481-4275-8999-841c81ae294b",
   "metadata": {},
   "source": [
    "ANS -- To calculate the Pearson correlation coefficient between the number of hours individuals spend watching television per day and their level of physical activity for the sample of 50 participants, you can follow these steps:\n",
    "\n",
    "1. Make sure you have the data values for both variables: the number of hours spent watching television per day and the level of physical activity (this could be represented as a score or an indicator).\n",
    "\n",
    "2. Calculate the mean (average) of both variables.\n",
    "\n",
    "3. Calculate the difference between each data point and its respective mean for both variables.\n",
    "\n",
    "4. Square each of these differences.\n",
    "\n",
    "5. Calculate the sum of the squared differences for both variables.\n",
    "\n",
    "6. Multiply each difference from step 3 for the two variables together.\n",
    "\n",
    "7. Calculate the sum of the products from step 6.\n",
    "\n",
    "8. Divide the sum of the products from step 7 by the square root of the product of the sum of squared differences for each variable.\n",
    "\n",
    "The formula for the Pearson correlation coefficient (r) is:\n",
    "\n",
    "\\[ r = \\frac{\\sum{(X_i - \\bar{X})(Y_i - \\bar{Y})}}{\\sqrt{\\sum{(X_i - \\bar{X})^2} \\sum{(Y_i - \\bar{Y})^2}}} \\]\n",
    "\n",
    "Where:\n",
    "- \\( X_i \\) represents the hours spent watching television per day.\n",
    "- \\( Y_i \\) represents the level of physical activity.\n",
    "- \\( \\bar{X} \\) is the mean of hours spent watching television.\n",
    "- \\( \\bar{Y} \\) is the mean of the level of physical activity.\n",
    "\n",
    "Plug in the values from your data to the formula and calculate the Pearson correlation coefficient \\( r \\). The resulting value of \\( r \\) will indicate the strength and direction of the linear relationship between the number of hours spent watching television and the level of physical activity.\n",
    "\n",
    "Interpretation of \\( r \\):\n",
    "- If \\( r \\) is positive, it indicates a positive linear relationship, meaning as one variable increases, the other tends to increase as well.\n",
    "- If \\( r \\) is negative, it indicates a negative linear relationship, meaning as one variable increases, the other tends to decrease.\n",
    "- The magnitude of \\( r \\) represents the strength of the linear relationship, with values closer to +1 or -1 indicating a stronger correlation.\n",
    "\n",
    "Remember that the Pearson correlation coefficient specifically measures linear relationships, so it might not capture more complex associations between variables if they are not linear."
   ]
  },
  {
   "cell_type": "code",
   "execution_count": null,
   "id": "3a594c83-04ba-49bd-97bf-e0b32ce1529f",
   "metadata": {},
   "outputs": [],
   "source": [
    "Q6. A company is interested in examining the relationship between the number of sales calls made per day\n",
    "and the number of sales made per week. The company collected data on both variables from a sample of\n",
    "30 sales representatives. Calculate the Pearson correlation coefficient between these two variables."
   ]
  },
  {
   "cell_type": "code",
   "execution_count": null,
   "id": "2389147e-3b0d-452a-97ff-7fa297c5cd7b",
   "metadata": {},
   "outputs": [],
   "source": [
    "ANS --"
   ]
  }
 ],
 "metadata": {
  "kernelspec": {
   "display_name": "Python 3 (ipykernel)",
   "language": "python",
   "name": "python3"
  },
  "language_info": {
   "codemirror_mode": {
    "name": "ipython",
    "version": 3
   },
   "file_extension": ".py",
   "mimetype": "text/x-python",
   "name": "python",
   "nbconvert_exporter": "python",
   "pygments_lexer": "ipython3",
   "version": "3.10.8"
  }
 },
 "nbformat": 4,
 "nbformat_minor": 5
}
